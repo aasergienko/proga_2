{
 "cells": [
  {
   "cell_type": "code",
   "execution_count": null,
   "metadata": {},
   "outputs": [
    {
     "name": "stdout",
     "output_type": "stream",
     "text": [
      " * Serving Flask app \"__main__\" (lazy loading)\n",
      " * Environment: production\n",
      "   WARNING: Do not use the development server in a production environment.\n",
      "   Use a production WSGI server instead.\n",
      " * Debug mode: off\n"
     ]
    },
    {
     "name": "stderr",
     "output_type": "stream",
     "text": [
      " * Running on http://127.0.0.1:5000/ (Press CTRL+C to quit)\n",
      "127.0.0.1 - - [02/Dec/2018 02:48:52] \"GET / HTTP/1.1\" 200 -\n",
      "127.0.0.1 - - [02/Dec/2018 02:49:02] \"GET /?place=London&age=18&ee=on HTTP/1.1\" 200 -\n",
      "127.0.0.1 - - [02/Dec/2018 02:49:09] \"GET /?place=Moscow&age=13&ye=on&stop=on HTTP/1.1\" 200 -\n"
     ]
    },
    {
     "name": "stdout",
     "output_type": "stream",
     "text": [
      "[1, 2] [18, 13]\n"
     ]
    },
    {
     "data": {
      "text/plain": [
       "<Figure size 640x480 with 1 Axes>"
      ]
     },
     "metadata": {},
     "output_type": "display_data"
    },
    {
     "name": "stderr",
     "output_type": "stream",
     "text": [
      "127.0.0.1 - - [02/Dec/2018 02:49:11] \"GET /statistics HTTP/1.1\" 200 -\n"
     ]
    }
   ],
   "source": [
    "import csv\n",
    "from flask import Flask \n",
    "from flask import request\n",
    "from flask import render_template\n",
    "from flask import url_for\n",
    "import matplotlib\n",
    "import matplotlib.pyplot as plt\n",
    "\n",
    "app = Flask(__name__)\n",
    "\n",
    "spisok = []\n",
    "y = []\n",
    "\n",
    "@app.route('/')\n",
    "def index():\n",
    "    if request.args:\n",
    "        spisok.append(request.args)\n",
    "        if 'stop' in request.args:\n",
    "            write_csv(spisok)\n",
    "        if 'age' in request.args:\n",
    "            y.append(int(request.args[\"age\"]))\n",
    "    ssylki = {'главная (эта страница)': url_for('index'),\n",
    "            'статистика (данные и графики)': url_for('statistics')}\n",
    "    \n",
    "    return render_template('main.html', ssylki = ssylki)\n",
    "\n",
    "def write_csv(spisok):\n",
    "    with open('dannye.csv', 'w') as csv_file:\n",
    "        for line in spisok:\n",
    "            writer = csv.writer(csv_file)\n",
    "            for key, value in line.items():\n",
    "                writer.writerow([key, value])\n",
    "    return 'kek'\n",
    "    \n",
    "@app.route('/statistics')\n",
    "def statistics():\n",
    "    i = 0\n",
    "    with open('dannye.csv', 'r') as csv_file2:\n",
    "        reader = csv.reader(csv_file2)\n",
    "        spisok_2 = list(reader)\n",
    "        a = len(y) + 1\n",
    "        x = [i for i in range(1, a)]\n",
    "        print(x, y)\n",
    "        plt.plot(x, y)\n",
    "        plt.show()\n",
    "        plt.savefig('myfig')\n",
    "    return render_template('statistics.html', spisok_2 = spisok_2)\n",
    "    \n",
    "\n",
    "if __name__ == '__main__':\n",
    "    app.run(debug=False)"
   ]
  },
  {
   "cell_type": "code",
   "execution_count": null,
   "metadata": {},
   "outputs": [],
   "source": []
  },
  {
   "cell_type": "code",
   "execution_count": null,
   "metadata": {},
   "outputs": [],
   "source": []
  }
 ],
 "metadata": {
  "kernelspec": {
   "display_name": "Python 3",
   "language": "python",
   "name": "python3"
  },
  "language_info": {
   "codemirror_mode": {
    "name": "ipython",
    "version": 3
   },
   "file_extension": ".py",
   "mimetype": "text/x-python",
   "name": "python",
   "nbconvert_exporter": "python",
   "pygments_lexer": "ipython3",
   "version": "3.6.5"
  }
 },
 "nbformat": 4,
 "nbformat_minor": 2
}
