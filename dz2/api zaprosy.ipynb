{
 "cells": [
  {
   "cell_type": "code",
   "execution_count": 7,
   "metadata": {},
   "outputs": [
    {
     "name": "stdout",
     "output_type": "stream",
     "text": [
      "85247\n"
     ]
    },
    {
     "ename": "TypeError",
     "evalue": "string indices must be integers",
     "output_type": "error",
     "traceback": [
      "\u001b[1;31m---------------------------------------------------------------------------\u001b[0m",
      "\u001b[1;31mTypeError\u001b[0m                                 Traceback (most recent call last)",
      "\u001b[1;32m<ipython-input-7-b76290215875>\u001b[0m in \u001b[0;36m<module>\u001b[1;34m()\u001b[0m\n\u001b[0;32m      4\u001b[0m \u001b[0mprint\u001b[0m\u001b[1;33m(\u001b[0m\u001b[0mlen\u001b[0m\u001b[1;33m(\u001b[0m\u001b[0mdannye\u001b[0m\u001b[1;33m)\u001b[0m\u001b[1;33m)\u001b[0m\u001b[1;33m\u001b[0m\u001b[0m\n\u001b[0;32m      5\u001b[0m \u001b[1;32mfor\u001b[0m \u001b[0mi\u001b[0m \u001b[1;32min\u001b[0m \u001b[0mdannye\u001b[0m\u001b[1;33m:\u001b[0m\u001b[1;33m\u001b[0m\u001b[0m\n\u001b[1;32m----> 6\u001b[1;33m     \u001b[0mprint\u001b[0m\u001b[1;33m(\u001b[0m\u001b[0mi\u001b[0m\u001b[1;33m[\u001b[0m\u001b[1;34m\"name\"\u001b[0m\u001b[1;33m]\u001b[0m\u001b[1;33m)\u001b[0m\u001b[1;33m\u001b[0m\u001b[0m\n\u001b[0m",
      "\u001b[1;31mTypeError\u001b[0m: string indices must be integers"
     ]
    }
   ],
   "source": []
  },
  {
   "cell_type": "code",
   "execution_count": null,
   "metadata": {},
   "outputs": [
    {
     "name": "stdout",
     "output_type": "stream",
     "text": [
      "Введите свой токен\n",
      "Введите свой токен\n",
      "Введите свой токен\n"
     ]
    }
   ],
   "source": [
    "import json\n",
    "import urllib.request\n",
    "import re\n",
    "import collections\n",
    "def token():\n",
    "    print(\"Введите свой токен\")\n",
    "    token = input()\n",
    "    with open(\"token.txt\", \"w\", encoding=\"utf-8\") as f:\n",
    "        f.write(token)\n",
    "token = token()\n",
    "def user_list():    \n",
    "    print(\"Введите ники пользователей, которые вы хотите включить в выдачу\\n\")\n",
    "    print(\"Чтобы закончить список, введите пустую строку\")\n",
    "    spisok = []\n",
    "    for i in range(1, 10):\n",
    "        spisok.append(input())\n",
    "        if input() == \"\":\n",
    "            break\n",
    "    return spisok\n",
    "spisok = user_list()\n",
    "def choose_user(spisok):\n",
    "    print(\"Теперь введите ник одного пользователя из списка\")\n",
    "    user = input()\n",
    "    pravda = 0\n",
    "    for word in spisok:\n",
    "        if user == word:\n",
    "            pravda = 1\n",
    "    if pravda == 0:\n",
    "        print(\"Введите правильное имя пользователя!\")\n",
    "    if pravda == 1:\n",
    "        print(\"Вы выбрали пользователя %s, вот список его репозиториев:\\n\" % user) \n",
    "    return user\n",
    "user = choose_user(spisok)\n",
    "def download_user(user):\n",
    "    with open(\"token.txt\", \"r\", encoding=\"utf-8\") as f:\n",
    "        token = f.read().replace('\\n', '')\n",
    "    url = 'https://api.github.com/users/%s/repos?page=1&per_page=100&access_token=' % user \n",
    "    url_2 = url + token\n",
    "    request = urllib.request.Request(url_2) \n",
    "    response = urllib.request.urlopen(request)\n",
    "    text = response.read().decode('utf-8')  # читаем ответ в строку\n",
    "    data = json.loads(text)\n",
    "    return data\n",
    "data = download_user(user)\n",
    "def name_description(data):\n",
    "    for i in data:\n",
    "        if i[\"name\"] and i[\"description\"]:\n",
    "            stroka = i[\"name\"] + \":\" + i[\"description\"]\n",
    "            print(stroka)\n",
    "name_description(data)\n",
    "def languages(data):\n",
    "    spisok = []\n",
    "    for i in data:\n",
    "        if i[\"language\"]:\n",
    "            spisok.append(i[\"language\"])\n",
    "    counter = collections.Counter(spisok)\n",
    "    print(\"\\nПользователь пишет на следующих языках:\\n\")\n",
    "    for i in counter:\n",
    "        print(i, \"-\", counter[i])\n",
    "    s = 0\n",
    "    for key in sorted(counter, key=counter.get, reverse=True):\n",
    "        if s == 0:\n",
    "            a = key\n",
    "        s = s + 1\n",
    "    return a\n",
    "languages(data)\n",
    "def repos_number(spisok):\n",
    "    slovar = {}\n",
    "    for i in spisok:\n",
    "        data = download_user(i)\n",
    "        a = 0\n",
    "        for l in data:\n",
    "            if l[\"name\"]:\n",
    "                a = a + 1\n",
    "        slovar[i] = a\n",
    "    s = 0\n",
    "    for key in sorted(slovar, key=slovar.get, reverse=True):\n",
    "        if s == 0:\n",
    "            print(\"\\nБольше всего репозиториев у пользователя\", key, slovar[key])\n",
    "        s = s + 1\n",
    "        \n",
    "repos_number(spisok)\n",
    "\n",
    "def popular_language(spisok):\n",
    "    yazyki = []\n",
    "    for i in spisok:\n",
    "        data = download_user(i)\n",
    "        yazyki.append(languages(data))\n",
    "        print(yazyki)\n",
    "        counter = collections.Counter(yazyki)\n",
    "        s = 0\n",
    "    for key in sorted(counter, key=counter.get, reverse=True):\n",
    "        if s == 0:\n",
    "            print(\"\\nСамый популярный язык программирования - \", key)\n",
    "        s = s + 1\n",
    "        \n",
    "        \n",
    "popular_language(spisok)\n",
    "        \n",
    "        \n",
    "            \n",
    "        \n",
    "    \n",
    "        \n",
    "    \n",
    "    \n",
    "    \n",
    "    "
   ]
  },
  {
   "cell_type": "code",
   "execution_count": 5,
   "metadata": {},
   "outputs": [
    {
     "ename": "SyntaxError",
     "evalue": "Missing parentheses in call to 'print'. Did you mean print(token)? (<ipython-input-5-00ce6e986bde>, line 1)",
     "output_type": "error",
     "traceback": [
      "\u001b[1;36m  File \u001b[1;32m\"<ipython-input-5-00ce6e986bde>\"\u001b[1;36m, line \u001b[1;32m1\u001b[0m\n\u001b[1;33m    print token\u001b[0m\n\u001b[1;37m              ^\u001b[0m\n\u001b[1;31mSyntaxError\u001b[0m\u001b[1;31m:\u001b[0m Missing parentheses in call to 'print'. Did you mean print(token)?\n"
     ]
    },
    {
     "ename": "SyntaxError",
     "evalue": "Missing parentheses in call to 'print'. Did you mean print(token)? (<ipython-input-5-00ce6e986bde>, line 1)",
     "output_type": "error",
     "traceback": [
      "\u001b[1;36m  File \u001b[1;32m\"<ipython-input-5-00ce6e986bde>\"\u001b[1;36m, line \u001b[1;32m1\u001b[0m\n\u001b[1;33m    print token\u001b[0m\n\u001b[1;37m              ^\u001b[0m\n\u001b[1;31mSyntaxError\u001b[0m\u001b[1;31m:\u001b[0m Missing parentheses in call to 'print'. Did you mean print(token)?\n"
     ]
    },
    {
     "ename": "SyntaxError",
     "evalue": "Missing parentheses in call to 'print'. Did you mean print(token)? (<ipython-input-5-00ce6e986bde>, line 1)",
     "output_type": "error",
     "traceback": [
      "\u001b[1;36m  File \u001b[1;32m\"<ipython-input-5-00ce6e986bde>\"\u001b[1;36m, line \u001b[1;32m1\u001b[0m\n\u001b[1;33m    print token\u001b[0m\n\u001b[1;37m              ^\u001b[0m\n\u001b[1;31mSyntaxError\u001b[0m\u001b[1;31m:\u001b[0m Missing parentheses in call to 'print'. Did you mean print(token)?\n"
     ]
    }
   ],
   "source": [
    "print token\n"
   ]
  },
  {
   "cell_type": "code",
   "execution_count": null,
   "metadata": {},
   "outputs": [],
   "source": []
  },
  {
   "cell_type": "code",
   "execution_count": null,
   "metadata": {},
   "outputs": [],
   "source": []
  }
 ],
 "metadata": {
  "kernelspec": {
   "display_name": "Python 3",
   "language": "python",
   "name": "python3"
  }
 },
 "nbformat": 4,
 "nbformat_minor": 2
}
